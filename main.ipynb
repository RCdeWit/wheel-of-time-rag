{
 "cells": [
  {
   "cell_type": "code",
   "execution_count": 3,
   "metadata": {},
   "outputs": [],
   "source": [
    "import boto3\n",
    "import openai\n",
    "import os\n",
    "import json\n",
    "import shutil\n",
    "\n",
    "from langchain_text_splitters import RecursiveCharacterTextSplitter\n",
    "from pathlib import Path\n",
    "from sentence_transformers import SentenceTransformer\n",
    "from sklearn.metrics.pairwise import cosine_similarity"
   ]
  },
  {
   "cell_type": "markdown",
   "metadata": {},
   "source": [
    "## Basic LLM example"
   ]
  },
  {
   "cell_type": "code",
   "execution_count": null,
   "metadata": {},
   "outputs": [],
   "source": [
    "# Run this interactively in your terminal to generate a config\n",
    "rayllm gen-config"
   ]
  },
  {
   "cell_type": "code",
   "execution_count": null,
   "metadata": {},
   "outputs": [],
   "source": [
    "# Deploy the serve app to production with a given service name.\n",
    "# Reference the serve file created in step 1\n",
    "!anyscale service deploy -f serve_mistral_7b.yaml"
   ]
  },
  {
   "cell_type": "code",
   "execution_count": null,
   "metadata": {},
   "outputs": [],
   "source": [
    "def prompt_llm(service_url: str, prompt: str, model: str =\"mistralai/Mistral-7B-Instruct-v0.1\", temperature: float = 0, **kwargs):\n",
    "\n",
    "    # Ensure URL has a trailing backslash\n",
    "    if not service_url.endswith(\"/\"):\n",
    "        service_url += \"/\"\n",
    "    \n",
    "    if \"/routes\" in service_url:\n",
    "        raise ValueError(\"service_url must end with '.com'\")\n",
    "\n",
    "    # Initialize a client to perform API requests\n",
    "    client = openai.OpenAI(\n",
    "        base_url=ANYSCALE_SERVICE_BASE_URL + \"v1\",\n",
    "        api_key=ANYSCALE_API_KEY,\n",
    "    )\n",
    "    \n",
    "    # Call the chat completions endpoint\n",
    "    chat_completion = client.chat.completions.create(\n",
    "        model=model,\n",
    "        messages=[\n",
    "            # Prime the system with a system message - a common best practice\n",
    "            {\"role\": \"system\", \"content\": \"You are a helpful assistant.\"},\n",
    "            # Send the user message with the proper \"user\" role and \"content\"\n",
    "            {\"role\": \"user\", \"content\": prompt},\n",
    "        ],\n",
    "        temperature=temperature,\n",
    "        **kwargs,\n",
    "    )\n",
    "\n",
    "    return chat_completion"
   ]
  },
  {
   "cell_type": "code",
   "execution_count": null,
   "metadata": {},
   "outputs": [],
   "source": [
    "service_url = \"https://wheel-of-time-rag-3136s.cld-8lqvbtr41isy21zu.s.anyscaleuserdata.com/\"\n",
    "prompt = \"Tell me something about Wheel of Time\"\n",
    "response = prompt_llm(\"service_url\", prompt)\n",
    "print(response.choices[0].message.content)"
   ]
  },
  {
   "cell_type": "markdown",
   "metadata": {},
   "source": [
    "## Create RAG"
   ]
  },
  {
   "cell_type": "markdown",
   "metadata": {},
   "source": [
    "### Download epubs from S3"
   ]
  },
  {
   "cell_type": "code",
   "execution_count": 4,
   "metadata": {},
   "outputs": [
    {
     "ename": "ClientError",
     "evalue": "An error occurred (InvalidAccessKeyId) when calling the ListObjectsV2 operation: The AWS Access Key Id you provided does not exist in our records.",
     "output_type": "error",
     "traceback": [
      "\u001b[0;31m---------------------------------------------------------------------------\u001b[0m",
      "\u001b[0;31mClientError\u001b[0m                               Traceback (most recent call last)",
      "Cell \u001b[0;32mIn[4], line 29\u001b[0m\n\u001b[1;32m     26\u001b[0m BUCKET_NAME \u001b[38;5;241m=\u001b[39m \u001b[38;5;124m'\u001b[39m\u001b[38;5;124mrag-wheel-of-time\u001b[39m\u001b[38;5;124m'\u001b[39m\n\u001b[1;32m     27\u001b[0m LOCAL_DATA_DIR \u001b[38;5;241m=\u001b[39m Path(\u001b[38;5;124m\"\u001b[39m\u001b[38;5;124m./data/\u001b[39m\u001b[38;5;124m\"\u001b[39m)\n\u001b[0;32m---> 29\u001b[0m \u001b[43mdownload_s3_bucket\u001b[49m\u001b[43m(\u001b[49m\u001b[43mBUCKET_NAME\u001b[49m\u001b[43m,\u001b[49m\u001b[43m \u001b[49m\u001b[43mLOCAL_DATA_DIR\u001b[49m\u001b[43m)\u001b[49m\n",
      "Cell \u001b[0;32mIn[4], line 13\u001b[0m, in \u001b[0;36mdownload_s3_bucket\u001b[0;34m(bucket_name, local_dir)\u001b[0m\n\u001b[1;32m     10\u001b[0m     os\u001b[38;5;241m.\u001b[39mmakedirs(local_dir)\n\u001b[1;32m     12\u001b[0m \u001b[38;5;66;03m# List all objects in the S3 bucket\u001b[39;00m\n\u001b[0;32m---> 13\u001b[0m \u001b[38;5;28;01mfor\u001b[39;00m obj \u001b[38;5;129;01min\u001b[39;00m \u001b[43ms3\u001b[49m\u001b[38;5;241;43m.\u001b[39;49m\u001b[43mlist_objects_v2\u001b[49m\u001b[43m(\u001b[49m\u001b[43mBucket\u001b[49m\u001b[38;5;241;43m=\u001b[39;49m\u001b[43mbucket_name\u001b[49m\u001b[43m)\u001b[49m[\u001b[38;5;124m'\u001b[39m\u001b[38;5;124mContents\u001b[39m\u001b[38;5;124m'\u001b[39m]:\n\u001b[1;32m     14\u001b[0m     s3_key \u001b[38;5;241m=\u001b[39m obj[\u001b[38;5;124m'\u001b[39m\u001b[38;5;124mKey\u001b[39m\u001b[38;5;124m'\u001b[39m]\n\u001b[1;32m     15\u001b[0m     local_path \u001b[38;5;241m=\u001b[39m os\u001b[38;5;241m.\u001b[39mpath\u001b[38;5;241m.\u001b[39mjoin(local_dir, s3_key)\n",
      "File \u001b[0;32m~/anaconda3/lib/python3.9/site-packages/botocore/client.py:569\u001b[0m, in \u001b[0;36mClientCreator._create_api_method.<locals>._api_call\u001b[0;34m(self, *args, **kwargs)\u001b[0m\n\u001b[1;32m    565\u001b[0m     \u001b[38;5;28;01mraise\u001b[39;00m \u001b[38;5;167;01mTypeError\u001b[39;00m(\n\u001b[1;32m    566\u001b[0m         \u001b[38;5;124mf\u001b[39m\u001b[38;5;124m\"\u001b[39m\u001b[38;5;132;01m{\u001b[39;00mpy_operation_name\u001b[38;5;132;01m}\u001b[39;00m\u001b[38;5;124m() only accepts keyword arguments.\u001b[39m\u001b[38;5;124m\"\u001b[39m\n\u001b[1;32m    567\u001b[0m     )\n\u001b[1;32m    568\u001b[0m \u001b[38;5;66;03m# The \"self\" in this scope is referring to the BaseClient.\u001b[39;00m\n\u001b[0;32m--> 569\u001b[0m \u001b[38;5;28;01mreturn\u001b[39;00m \u001b[38;5;28;43mself\u001b[39;49m\u001b[38;5;241;43m.\u001b[39;49m\u001b[43m_make_api_call\u001b[49m\u001b[43m(\u001b[49m\u001b[43moperation_name\u001b[49m\u001b[43m,\u001b[49m\u001b[43m \u001b[49m\u001b[43mkwargs\u001b[49m\u001b[43m)\u001b[49m\n",
      "File \u001b[0;32m~/anaconda3/lib/python3.9/site-packages/botocore/client.py:1023\u001b[0m, in \u001b[0;36mBaseClient._make_api_call\u001b[0;34m(self, operation_name, api_params)\u001b[0m\n\u001b[1;32m   1019\u001b[0m     error_code \u001b[38;5;241m=\u001b[39m error_info\u001b[38;5;241m.\u001b[39mget(\u001b[38;5;124m\"\u001b[39m\u001b[38;5;124mQueryErrorCode\u001b[39m\u001b[38;5;124m\"\u001b[39m) \u001b[38;5;129;01mor\u001b[39;00m error_info\u001b[38;5;241m.\u001b[39mget(\n\u001b[1;32m   1020\u001b[0m         \u001b[38;5;124m\"\u001b[39m\u001b[38;5;124mCode\u001b[39m\u001b[38;5;124m\"\u001b[39m\n\u001b[1;32m   1021\u001b[0m     )\n\u001b[1;32m   1022\u001b[0m     error_class \u001b[38;5;241m=\u001b[39m \u001b[38;5;28mself\u001b[39m\u001b[38;5;241m.\u001b[39mexceptions\u001b[38;5;241m.\u001b[39mfrom_code(error_code)\n\u001b[0;32m-> 1023\u001b[0m     \u001b[38;5;28;01mraise\u001b[39;00m error_class(parsed_response, operation_name)\n\u001b[1;32m   1024\u001b[0m \u001b[38;5;28;01melse\u001b[39;00m:\n\u001b[1;32m   1025\u001b[0m     \u001b[38;5;28;01mreturn\u001b[39;00m parsed_response\n",
      "\u001b[0;31mClientError\u001b[0m: An error occurred (InvalidAccessKeyId) when calling the ListObjectsV2 operation: The AWS Access Key Id you provided does not exist in our records."
     ]
    }
   ],
   "source": [
    "import boto3\n",
    "import os\n",
    "\n",
    "def download_s3_bucket(bucket_name, local_dir='/data'):\n",
    "    # Create an S3 client\n",
    "    s3 = boto3.client('s3')\n",
    "    \n",
    "    # Ensure local directory exists\n",
    "    if not os.path.exists(local_dir):\n",
    "        os.makedirs(local_dir)\n",
    "    \n",
    "    # List all objects in the S3 bucket\n",
    "    for obj in s3.list_objects_v2(Bucket=bucket_name)['Contents']:\n",
    "        s3_key = obj['Key']\n",
    "        local_path = os.path.join(local_dir, s3_key)\n",
    "        \n",
    "        # Create local directory structure if needed\n",
    "        if not os.path.exists(os.path.dirname(local_path)):\n",
    "            os.makedirs(os.path.dirname(local_path))\n",
    "        \n",
    "        # Download the file\n",
    "        s3.download_file(bucket_name, s3_key, local_path)\n",
    "        print(f\"Downloaded {s3_key} to {local_path}\")\n",
    "\n",
    "# Usage\n",
    "BUCKET_NAME = 'rag-wheel-of-time'\n",
    "LOCAL_DATA_DIR = Path(\"./data/\")\n",
    "\n",
    "download_s3_bucket(BUCKET_NAME, LOCAL_DATA_DIR)"
   ]
  },
  {
   "cell_type": "markdown",
   "metadata": {},
   "source": [
    "### Parse epubs to text"
   ]
  },
  {
   "cell_type": "code",
   "execution_count": null,
   "metadata": {},
   "outputs": [],
   "source": [
    "import os\n",
    "from ebooklib import epub\n",
    "from bs4 import BeautifulSoup\n",
    "\n",
    "def parse_epub_content(epub_file: Path) -> list:\n",
    "    \"\"\"Extracts and returns text content from an EPUB file.\"\"\"\n",
    "    book = epub.read_epub(epub_file)\n",
    "    content = []\n",
    "\n",
    "    for item in book.get_items():\n",
    "        # Check if the media type is HTML/XHTML\n",
    "        if item.media_type == 'application/xhtml+xml':\n",
    "            soup = BeautifulSoup(item.get_body_content(), 'html.parser')\n",
    "            # Extract text from each HTML section\n",
    "            content.append(soup.get_text())\n",
    "\n",
    "    # Join all sections to return as a single string\n",
    "    return '\\n'.join(content)\n",
    "\n",
    "def parse_epub_directory(directory_path: Path) -> dict:\n",
    "    \"\"\"Parses all EPUB files in a directory and returns a dictionary with file names and content.\"\"\"\n",
    "    epub_texts = {}\n",
    "    \n",
    "    for filename in os.listdir(directory_path):\n",
    "        if filename.endswith('.epub'):\n",
    "            epub_path = os.path.join(directory_path, filename)\n",
    "            text = parse_epub_content(epub_path)\n",
    "            epub_texts[filename] = text\n",
    "            \n",
    "    return epub_texts"
   ]
  },
  {
   "cell_type": "code",
   "execution_count": null,
   "metadata": {},
   "outputs": [],
   "source": [
    "# book00 = parse_epub_content('data/library/00 - New Spring.epub')\n",
    "book01 = parse_epub_content('data/library/01 - The Eye of the World.epub')\n",
    "# book02 = parse_epub_content('data/library/02 - The Great Hunt.epub')\n",
    "# book03 = parse_epub_content('data/library/03 - The Dragon Reborn.epub')\n",
    "# book04 = parse_epub_content('data/library/04 - The Shadow Rising.epub')\n",
    "# book05 = parse_epub_content('data/library/05 - The Fires of Heaven.epub')\n",
    "# book06 = parse_epub_content('data/library/06 - Lord of Chaos.epub')\n",
    "# book07 = parse_epub_content('data/library/07 - A Crown of Swords.epub')\n",
    "# book08 = parse_epub_content('data/library/08 - The Path of Daggers.epub')\n",
    "# book09 = parse_epub_content('data/library/09 - Winter\\'s Heart.epub')\n",
    "# book10 = parse_epub_content('data/library/10 - Crossroads of Twilight.epub')\n",
    "# book11 = parse_epub_content('data/library/11 - Knife of Dreams.epub')\n",
    "# book12 = parse_epub_content('data/library/12 - The Gathering Storm.epub')\n",
    "# book13 = parse_epub_content('data/library/13 - Towers of Midnight.epub')\n",
    "# book14 = parse_epub_content('data/library/14 - A Memory of Light.epub')\n",
    "\n",
    "print(book01)"
   ]
  },
  {
   "cell_type": "code",
   "execution_count": null,
   "metadata": {},
   "outputs": [],
   "source": [
    "directory_path = DATA_DIR / 'library'\n",
    "epub_data = parse_epub_directory(directory_path)"
   ]
  },
  {
   "cell_type": "markdown",
   "metadata": {},
   "source": [
    "### Split books into chunks"
   ]
  },
  {
   "cell_type": "code",
   "execution_count": null,
   "metadata": {},
   "outputs": [],
   "source": [
    "chunk_size = 128  #  Chunk size is usually specified in tokens\n",
    "words_to_tokens = 1.2  # Heuristic for converting tokens to words\n",
    "chunk_size_in_words = int(chunk_size // words_to_tokens)\n",
    "\n",
    "splitter = RecursiveCharacterTextSplitter(\n",
    "    chunk_size=chunk_size_in_words,\n",
    "    length_function=lambda x: len(x.split()),\n",
    "    chunk_overlap=0,\n",
    ")\n",
    "\n",
    "chunks = []\n",
    "\n",
    "for title, text in epub_data.items():\n",
    "    for chunk in splitter.split_text(text):\n",
    "        chunks.append(\n",
    "            {\n",
    "                \"text\": chunk,\n",
    "                \"book_title\": title,\n",
    "            }\n",
    "        )\n",
    "\n",
    "# for idx, row in df.iterrows():\n",
    "#     for chunk in splitter.split_text(row[\"text\"]):\n",
    "#         chunks.append(\n",
    "#             {\n",
    "#                 \"text\": chunk,\n",
    "#                 \"section_url\": row[\"section_url\"],\n",
    "#                 \"page_url\": row[\"page_url\"],\n",
    "#             }\n",
    "#         )"
   ]
  }
 ],
 "metadata": {
  "kernelspec": {
   "display_name": "base",
   "language": "python",
   "name": "python3"
  },
  "language_info": {
   "codemirror_mode": {
    "name": "ipython",
    "version": 3
   },
   "file_extension": ".py",
   "mimetype": "text/x-python",
   "name": "python",
   "nbconvert_exporter": "python",
   "pygments_lexer": "ipython3",
   "version": "3.9.19"
  }
 },
 "nbformat": 4,
 "nbformat_minor": 2
}
