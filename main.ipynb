{
 "cells": [
  {
   "cell_type": "code",
   "execution_count": 4,
   "metadata": {},
   "outputs": [
    {
     "name": "stderr",
     "output_type": "stream",
     "text": [
      "/home/ray/anaconda3/lib/python3.9/site-packages/sentence_transformers/cross_encoder/CrossEncoder.py:13: TqdmExperimentalWarning: Using `tqdm.autonotebook.tqdm` in notebook mode. Use `tqdm.tqdm` instead to force console mode (e.g. in jupyter console)\n",
      "  from tqdm.autonotebook import tqdm, trange\n"
     ]
    }
   ],
   "source": [
    "import openai\n",
    "import os\n",
    "import json\n",
    "import shutil\n",
    "\n",
    "from langchain_text_splitters import RecursiveCharacterTextSplitter\n",
    "from pathlib import Path\n",
    "from sentence_transformers import SentenceTransformer\n",
    "from sklearn.metrics.pairwise import cosine_similarity"
   ]
  },
  {
   "cell_type": "code",
   "execution_count": null,
   "metadata": {},
   "outputs": [],
   "source": [
    "# Run this interactively in your terminal to generate a config\n",
    "rayllm gen-config"
   ]
  },
  {
   "cell_type": "code",
   "execution_count": null,
   "metadata": {},
   "outputs": [],
   "source": [
    "# Deploy the serve app to production with a given service name.\n",
    "# Reference the serve file created in step 1\n",
    "!anyscale service deploy -f serve_mistral_7b.yaml"
   ]
  },
  {
   "cell_type": "code",
   "execution_count": null,
   "metadata": {},
   "outputs": [],
   "source": [
    "def prompt_llm(service_url: str, prompt: str, model: str =\"mistralai/Mistral-7B-Instruct-v0.1\", temperature: float = 0, **kwargs):\n",
    "\n",
    "    # Ensure URL has a trailing backslash\n",
    "    if not service_url.endswith(\"/\"):\n",
    "        service_url += \"/\"\n",
    "    \n",
    "    if \"/routes\" in service_url:\n",
    "        raise ValueError(\"service_url must end with '.com'\")\n",
    "\n",
    "    # Initialize a client to perform API requests\n",
    "    client = openai.OpenAI(\n",
    "        base_url=ANYSCALE_SERVICE_BASE_URL + \"v1\",\n",
    "        api_key=ANYSCALE_API_KEY,\n",
    "    )\n",
    "    \n",
    "    # Call the chat completions endpoint\n",
    "    chat_completion = client.chat.completions.create(\n",
    "        model=model,\n",
    "        messages=[\n",
    "            # Prime the system with a system message - a common best practice\n",
    "            {\"role\": \"system\", \"content\": \"You are a helpful assistant.\"},\n",
    "            # Send the user message with the proper \"user\" role and \"content\"\n",
    "            {\"role\": \"user\", \"content\": prompt},\n",
    "        ],\n",
    "        temperature=temperature,\n",
    "        **kwargs,\n",
    "    )\n",
    "\n",
    "    return chat_completion"
   ]
  },
  {
   "cell_type": "code",
   "execution_count": null,
   "metadata": {},
   "outputs": [],
   "source": [
    "service_url = \"https://wheel-of-time-rag-3136s.cld-8lqvbtr41isy21zu.s.anyscaleuserdata.com/\"\n",
    "prompt = \"Tell me something about Wheel of Time\"\n",
    "response = prompt_llm(\"service_url\", prompt)\n",
    "print(response.choices[0].message.content)"
   ]
  },
  {
   "cell_type": "markdown",
   "metadata": {},
   "source": [
    "## Create RAG"
   ]
  },
  {
   "cell_type": "code",
   "execution_count": null,
   "metadata": {},
   "outputs": [],
   "source": [
    "# if os.environ.get(\"ANYSCALE_ARTIFACT_STORAGE\"):\n",
    "#     DATA_DIR = Path(\"/mnt/cluster_storage/\")\n",
    "#     shutil.copytree(Path(\"data/\"), DATA_DIR, dirs_exist_ok=True)\n",
    "# else:\n",
    "#     DATA_DIR = Path(\"./data/\")\n",
    "\n",
    "DATA_DIR = Path(\"./data/\")"
   ]
  },
  {
   "cell_type": "code",
   "execution_count": null,
   "metadata": {},
   "outputs": [],
   "source": [
    "import os\n",
    "from ebooklib import epub\n",
    "from bs4 import BeautifulSoup\n",
    "\n",
    "def parse_epub_content(epub_file: Path) -> list:\n",
    "    \"\"\"Extracts and returns text content from an EPUB file.\"\"\"\n",
    "    book = epub.read_epub(epub_file)\n",
    "    content = []\n",
    "\n",
    "    for item in book.get_items():\n",
    "        # Check if the media type is HTML/XHTML\n",
    "        if item.media_type == 'application/xhtml+xml':\n",
    "            soup = BeautifulSoup(item.get_body_content(), 'html.parser')\n",
    "            # Extract text from each HTML section\n",
    "            content.append(soup.get_text())\n",
    "\n",
    "    # Join all sections to return as a single string\n",
    "    return '\\n'.join(content)\n",
    "\n",
    "def parse_epub_directory(directory_path: Path) -> dict:\n",
    "    \"\"\"Parses all EPUB files in a directory and returns a dictionary with file names and content.\"\"\"\n",
    "    epub_texts = {}\n",
    "    \n",
    "    for filename in os.listdir(directory_path):\n",
    "        if filename.endswith('.epub'):\n",
    "            epub_path = os.path.join(directory_path, filename)\n",
    "            text = parse_epub_content(epub_path)\n",
    "            epub_texts[filename] = text\n",
    "            \n",
    "    return epub_texts"
   ]
  },
  {
   "cell_type": "code",
   "execution_count": null,
   "metadata": {},
   "outputs": [],
   "source": [
    "# book00 = parse_epub_content('data/library/00 - New Spring.epub')\n",
    "book01 = parse_epub_content('data/library/01 - The Eye of the World.epub')\n",
    "# book02 = parse_epub_content('data/library/02 - The Great Hunt.epub')\n",
    "# book03 = parse_epub_content('data/library/03 - The Dragon Reborn.epub')\n",
    "# book04 = parse_epub_content('data/library/04 - The Shadow Rising.epub')\n",
    "# book05 = parse_epub_content('data/library/05 - The Fires of Heaven.epub')\n",
    "# book06 = parse_epub_content('data/library/06 - Lord of Chaos.epub')\n",
    "# book07 = parse_epub_content('data/library/07 - A Crown of Swords.epub')\n",
    "# book08 = parse_epub_content('data/library/08 - The Path of Daggers.epub')\n",
    "# book09 = parse_epub_content('data/library/09 - Winter\\'s Heart.epub')\n",
    "# book10 = parse_epub_content('data/library/10 - Crossroads of Twilight.epub')\n",
    "# book11 = parse_epub_content('data/library/11 - Knife of Dreams.epub')\n",
    "# book12 = parse_epub_content('data/library/12 - The Gathering Storm.epub')\n",
    "# book13 = parse_epub_content('data/library/13 - Towers of Midnight.epub')\n",
    "# book14 = parse_epub_content('data/library/14 - A Memory of Light.epub')\n",
    "\n",
    "print(book01)"
   ]
  },
  {
   "cell_type": "code",
   "execution_count": null,
   "metadata": {},
   "outputs": [],
   "source": [
    "directory_path = DATA_DIR / 'library'\n",
    "epub_data = parse_epub_directory(directory_path)"
   ]
  },
  {
   "cell_type": "markdown",
   "metadata": {},
   "source": [
    "### Split books into chunks"
   ]
  },
  {
   "cell_type": "code",
   "execution_count": null,
   "metadata": {},
   "outputs": [],
   "source": [
    "chunk_size = 128  #  Chunk size is usually specified in tokens\n",
    "words_to_tokens = 1.2  # Heuristic for converting tokens to words\n",
    "chunk_size_in_words = int(chunk_size // words_to_tokens)\n",
    "\n",
    "splitter = RecursiveCharacterTextSplitter(\n",
    "    chunk_size=chunk_size_in_words,\n",
    "    length_function=lambda x: len(x.split()),\n",
    "    chunk_overlap=0,\n",
    ")\n",
    "\n",
    "chunks = []\n",
    "\n",
    "for title, text in epub_data.items():\n",
    "    for chunk in splitter.split_text(text):\n",
    "        chunks.append(\n",
    "            {\n",
    "                \"text\": chunk,\n",
    "                \"book_title\": title,\n",
    "            }\n",
    "        )\n",
    "\n",
    "# for idx, row in df.iterrows():\n",
    "#     for chunk in splitter.split_text(row[\"text\"]):\n",
    "#         chunks.append(\n",
    "#             {\n",
    "#                 \"text\": chunk,\n",
    "#                 \"section_url\": row[\"section_url\"],\n",
    "#                 \"page_url\": row[\"page_url\"],\n",
    "#             }\n",
    "#         )"
   ]
  }
 ],
 "metadata": {
  "kernelspec": {
   "display_name": "base",
   "language": "python",
   "name": "python3"
  },
  "language_info": {
   "codemirror_mode": {
    "name": "ipython",
    "version": 3
   },
   "file_extension": ".py",
   "mimetype": "text/x-python",
   "name": "python",
   "nbconvert_exporter": "python",
   "pygments_lexer": "ipython3",
   "version": "3.9.19"
  }
 },
 "nbformat": 4,
 "nbformat_minor": 2
}
