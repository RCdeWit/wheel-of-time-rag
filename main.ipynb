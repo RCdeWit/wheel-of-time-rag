{
 "cells": [
  {
   "cell_type": "code",
   "execution_count": 4,
   "metadata": {},
   "outputs": [],
   "source": [
    "import boto3\n",
    "import openai\n",
    "import os\n",
    "import json\n",
    "import shutil\n",
    "\n",
    "from bs4 import BeautifulSoup\n",
    "from ebooklib import epub\n",
    "from langchain_text_splitters import RecursiveCharacterTextSplitter\n",
    "from pathlib import Path\n",
    "from sentence_transformers import SentenceTransformer\n",
    "from sklearn.metrics.pairwise import cosine_similarity"
   ]
  },
  {
   "cell_type": "markdown",
   "metadata": {},
   "source": [
    "## Basic LLM example"
   ]
  },
  {
   "cell_type": "code",
   "execution_count": null,
   "metadata": {},
   "outputs": [],
   "source": [
    "# Run this interactively in your terminal to generate a config\n",
    "rayllm gen-config"
   ]
  },
  {
   "cell_type": "code",
   "execution_count": null,
   "metadata": {},
   "outputs": [],
   "source": [
    "# Deploy the serve app to production with a given service name.\n",
    "# Reference the serve file created in step 1\n",
    "!anyscale service deploy -f serve_mistral_7b.yaml"
   ]
  },
  {
   "cell_type": "code",
   "execution_count": null,
   "metadata": {},
   "outputs": [],
   "source": [
    "def prompt_llm(service_url: str, prompt: str, model: str =\"mistralai/Mistral-7B-Instruct-v0.1\", temperature: float = 0, **kwargs):\n",
    "\n",
    "    # Ensure URL has a trailing backslash\n",
    "    if not service_url.endswith(\"/\"):\n",
    "        service_url += \"/\"\n",
    "    \n",
    "    if \"/routes\" in service_url:\n",
    "        raise ValueError(\"service_url must end with '.com'\")\n",
    "\n",
    "    # Initialize a client to perform API requests\n",
    "    client = openai.OpenAI(\n",
    "        base_url=ANYSCALE_SERVICE_BASE_URL + \"v1\",\n",
    "        api_key=ANYSCALE_API_KEY,\n",
    "    )\n",
    "    \n",
    "    # Call the chat completions endpoint\n",
    "    chat_completion = client.chat.completions.create(\n",
    "        model=model,\n",
    "        messages=[\n",
    "            # Prime the system with a system message - a common best practice\n",
    "            {\"role\": \"system\", \"content\": \"You are a helpful assistant.\"},\n",
    "            # Send the user message with the proper \"user\" role and \"content\"\n",
    "            {\"role\": \"user\", \"content\": prompt},\n",
    "        ],\n",
    "        temperature=temperature,\n",
    "        **kwargs,\n",
    "    )\n",
    "\n",
    "    return chat_completion"
   ]
  },
  {
   "cell_type": "code",
   "execution_count": null,
   "metadata": {},
   "outputs": [],
   "source": [
    "service_url = \"https://wheel-of-time-rag-3136s.cld-8lqvbtr41isy21zu.s.anyscaleuserdata.com/\"\n",
    "prompt = \"Tell me something about Wheel of Time\"\n",
    "response = prompt_llm(\"service_url\", prompt)\n",
    "print(response.choices[0].message.content)"
   ]
  },
  {
   "cell_type": "markdown",
   "metadata": {},
   "source": [
    "## Create RAG"
   ]
  },
  {
   "cell_type": "markdown",
   "metadata": {},
   "source": [
    "### Download epubs from S3"
   ]
  },
  {
   "cell_type": "code",
   "execution_count": 2,
   "metadata": {},
   "outputs": [
    {
     "name": "stdout",
     "output_type": "stream",
     "text": [
      "Downloaded library/00 - New Spring.epub to data/library/00 - New Spring.epub\n",
      "Downloaded library/01 - The Eye of the World.epub to data/library/01 - The Eye of the World.epub\n",
      "Downloaded library/02 - The Great Hunt.epub to data/library/02 - The Great Hunt.epub\n",
      "Downloaded library/03 - The Dragon Reborn.epub to data/library/03 - The Dragon Reborn.epub\n",
      "Downloaded library/04 - The Shadow Rising.epub to data/library/04 - The Shadow Rising.epub\n",
      "Downloaded library/05 - The Fires of Heaven.epub to data/library/05 - The Fires of Heaven.epub\n",
      "Downloaded library/06 - Lord of Chaos.epub to data/library/06 - Lord of Chaos.epub\n",
      "Downloaded library/07 - A Crown of Swords.epub to data/library/07 - A Crown of Swords.epub\n",
      "Downloaded library/08 - The Path of Daggers.epub to data/library/08 - The Path of Daggers.epub\n",
      "Downloaded library/09 - Winter's Heart.epub to data/library/09 - Winter's Heart.epub\n",
      "Downloaded library/10 - Crossroads of Twilight.epub to data/library/10 - Crossroads of Twilight.epub\n",
      "Downloaded library/11 - Knife of Dreams.epub to data/library/11 - Knife of Dreams.epub\n",
      "Downloaded library/12 - The Gathering Storm.epub to data/library/12 - The Gathering Storm.epub\n",
      "Downloaded library/13 - Towers of Midnight.epub to data/library/13 - Towers of Midnight.epub\n",
      "Downloaded library/14 - A Memory of Light.epub to data/library/14 - A Memory of Light.epub\n"
     ]
    }
   ],
   "source": [
    "import boto3\n",
    "import os\n",
    "\n",
    "def download_s3_bucket(bucket_name, local_dir='/data'):\n",
    "    # Create an S3 client\n",
    "    s3 = boto3.client('s3')\n",
    "    \n",
    "    # Ensure local directory exists\n",
    "    if not os.path.exists(local_dir):\n",
    "        os.makedirs(local_dir)\n",
    "    \n",
    "    # List all objects in the S3 bucket\n",
    "    for obj in s3.list_objects_v2(Bucket=bucket_name)['Contents']:\n",
    "        s3_key = obj['Key']\n",
    "        local_path = os.path.join(local_dir, s3_key)\n",
    "        \n",
    "        # Create local directory structure if needed\n",
    "        if not os.path.exists(os.path.dirname(local_path)):\n",
    "            os.makedirs(os.path.dirname(local_path))\n",
    "        \n",
    "        # Download the file\n",
    "        s3.download_file(bucket_name, s3_key, local_path)\n",
    "        print(f\"Downloaded {s3_key} to {local_path}\")\n",
    "\n",
    "# Usage\n",
    "BUCKET_NAME = 'rag-wheel-of-time'\n",
    "LOCAL_DATA_DIR = Path(\"./data/\")\n",
    "\n",
    "download_s3_bucket(BUCKET_NAME, LOCAL_DATA_DIR)"
   ]
  },
  {
   "cell_type": "markdown",
   "metadata": {},
   "source": [
    "### Parse epubs to text"
   ]
  },
  {
   "cell_type": "code",
   "execution_count": 5,
   "metadata": {},
   "outputs": [],
   "source": [
    "def parse_epub_content(epub_file: Path) -> list:\n",
    "    \"\"\"Extracts and returns text content from an EPUB file.\"\"\"\n",
    "    book = epub.read_epub(epub_file)\n",
    "    content = []\n",
    "\n",
    "    for item in book.get_items():\n",
    "        # Check if the media type is HTML/XHTML\n",
    "        if item.media_type == 'application/xhtml+xml':\n",
    "            soup = BeautifulSoup(item.get_body_content(), 'html.parser')\n",
    "            # Extract text from each HTML section\n",
    "            content.append(soup.get_text())\n",
    "\n",
    "    # Join all sections to return as a single string\n",
    "    return '\\n'.join(content)\n",
    "\n",
    "def parse_epub_directory(directory_path: Path) -> dict:\n",
    "    \"\"\"Parses all EPUB files in a directory and returns a dictionary with file names and content.\"\"\"\n",
    "    epub_texts = {}\n",
    "    \n",
    "    for filename in os.listdir(directory_path):\n",
    "        if filename.endswith('.epub'):\n",
    "            epub_path = os.path.join(directory_path, filename)\n",
    "            text = parse_epub_content(epub_path)\n",
    "            epub_texts[filename] = text\n",
    "            \n",
    "    return epub_texts"
   ]
  },
  {
   "cell_type": "code",
   "execution_count": null,
   "metadata": {},
   "outputs": [],
   "source": [
    "# book00 = parse_epub_content('data/library/00 - New Spring.epub')\n",
    "book01 = parse_epub_content('data/library/01 - The Eye of the World.epub')\n",
    "# book02 = parse_epub_content('data/library/02 - The Great Hunt.epub')\n",
    "# book03 = parse_epub_content('data/library/03 - The Dragon Reborn.epub')\n",
    "# book04 = parse_epub_content('data/library/04 - The Shadow Rising.epub')\n",
    "# book05 = parse_epub_content('data/library/05 - The Fires of Heaven.epub')\n",
    "# book06 = parse_epub_content('data/library/06 - Lord of Chaos.epub')\n",
    "# book07 = parse_epub_content('data/library/07 - A Crown of Swords.epub')\n",
    "# book08 = parse_epub_content('data/library/08 - The Path of Daggers.epub')\n",
    "# book09 = parse_epub_content('data/library/09 - Winter\\'s Heart.epub')\n",
    "# book10 = parse_epub_content('data/library/10 - Crossroads of Twilight.epub')\n",
    "# book11 = parse_epub_content('data/library/11 - Knife of Dreams.epub')\n",
    "# book12 = parse_epub_content('data/library/12 - The Gathering Storm.epub')\n",
    "# book13 = parse_epub_content('data/library/13 - Towers of Midnight.epub')\n",
    "# book14 = parse_epub_content('data/library/14 - A Memory of Light.epub')\n",
    "\n",
    "print(book01)"
   ]
  },
  {
   "cell_type": "code",
   "execution_count": 6,
   "metadata": {},
   "outputs": [
    {
     "name": "stderr",
     "output_type": "stream",
     "text": [
      "/home/ray/anaconda3/lib/python3.9/site-packages/ebooklib/epub.py:1395: UserWarning: In the future version we will turn default option ignore_ncx to True.\n",
      "  warnings.warn('In the future version we will turn default option ignore_ncx to True.')\n",
      "/home/ray/anaconda3/lib/python3.9/site-packages/ebooklib/epub.py:1423: FutureWarning: This search incorrectly ignores the root element, and will be fixed in a future version.  If you rely on the current behaviour, change it to './/xmlns:rootfile[@media-type]'\n",
      "  for root_file in tree.findall('//xmlns:rootfile[@media-type]', namespaces={'xmlns': NAMESPACES['CONTAINERNS']}):\n"
     ]
    }
   ],
   "source": [
    "directory_path = LOCAL_DATA_DIR / 'library'\n",
    "epub_data = parse_epub_directory(directory_path)"
   ]
  },
  {
   "cell_type": "markdown",
   "metadata": {},
   "source": [
    "### Split books into chunks"
   ]
  },
  {
   "cell_type": "code",
   "execution_count": 8,
   "metadata": {},
   "outputs": [],
   "source": [
    "chunk_size = 128  #  Chunk size is usually specified in tokens\n",
    "words_to_tokens = 1.2  # Heuristic for converting tokens to words\n",
    "chunk_size_in_words = int(chunk_size // words_to_tokens)\n",
    "\n",
    "splitter = RecursiveCharacterTextSplitter(\n",
    "    chunk_size=chunk_size_in_words,\n",
    "    length_function=lambda x: len(x.split()),\n",
    "    chunk_overlap=0,\n",
    ")\n",
    "\n",
    "chunks = []\n",
    "\n",
    "for title, text in epub_data.items():\n",
    "    for chunk in splitter.split_text(text):\n",
    "        chunks.append(\n",
    "            {\n",
    "                \"text\": chunk,\n",
    "                \"book_title\": title,\n",
    "            }\n",
    "        )"
   ]
  },
  {
   "cell_type": "code",
   "execution_count": 10,
   "metadata": {},
   "outputs": [
    {
     "name": "stdout",
     "output_type": "stream",
     "text": [
      "[{'text': 'Praise for THE WHEEL OF TIME®\\n“Unlike some of the authors of mega-sagas, Jordan chooses his words with care, creating people and events that have earned him an enormous readership. For sheer imagination and storytelling skill . . . The Wheel of Time now rivals Tolkien’s The Lord of the Rings.”\\n—Publishers Weekly (starred review)\\n“Jordan succeeds in carrying forward his stunning world-building in this detailed story of a struggle between good and evil. The story continues with its myriad threads and subplots, carrying the reader inexorably toward an unpredictable conclusion.”\\n—SF Site', 'book_title': '08 - The Path of Daggers.epub'}, {'text': '“The battle scenes have the breathless urgency of firsthand experience, and the . . . evil laced into the forces of good, the dangers latent in any promised salvation, the sense of the unavoidable onslaught of unpredictable events bear the marks of American national experience during the last three de cades.”\\n—The New York Times', 'book_title': '08 - The Path of Daggers.epub'}, {'text': '“His writing is distinguished . . . by the richness of its fabric, with all the charm and naiveté of the Brothers Grimm and the social/moral commentary of Huxley’s Brave New World. With his well-fleshed-out characters, dark imagery, comic relief, vivid landscapes, and a fascinating sense of timelessness, Jordan has created a complex literature with a language and reality all its own.”\\n—Brewster Milton Robertson, BookPage', 'book_title': '08 - The Path of Daggers.epub'}, {'text': '“Throughout Jordan’s preeminent high-fantasy saga . . . the characters (minor as well as major), the world, and the source of powers have remained remarkably rich and consistent—no mean feat. . . . Amid all the Sturm und Drang, however, is a finely tuned comic strain that both leavens the story and adds to its development. A major fantasy epic.”\\n—Booklist\\n“Truth is not only stranger, it’s richer than fiction, but Jordan’s fictional universe approaches the variety and complexity of the real. . . . Plotlines [are] strummed with resonating long-wave rhythms something like Beethoven’s Eroica.”\\n—Robert Knox, MPG Newspapers', 'book_title': '08 - The Path of Daggers.epub'}, {'text': '“Adventure and mystery and dark things that move in the night—a combination of Robin Hood and Stephen King that is hard to resist . . . Furthermore, Jordan makes the reader . . . put down the book regretting the wait for the next title in the series.”\\n—Milwaukee Sentinel\\n“The Wheel of Time [is] rapidly becoming the definitive American fantasy saga. It is a fantasy tale seldom equaled and still less often surpassed in English.”\\n—Chicago Sun-Times\\n“Can’t recommend starting anywhere but at the beginning, but the volumes only get richer as they go along.”\\n—Locus', 'book_title': '08 - The Path of Daggers.epub'}, {'text': '“In the decades since J. R. R. Tolkien’s Lord of the Rings trilogy was published, many fantasy writers have tried to capture the spirit of that seminal work. While many have been able to imitate the style, develop a similarly swift and complex plot, and create convincing characters, none had captured the spirit of small men and mighty, struggling against a force of overwhelming evil. Robert Jordan has.”\\n—Ottawa Citizen\\n“Magic and pacing and detail and human involvement, with a certain subtlety of presentation and a grand central vision. Robert Jordan . . . is a lot of writer!”\\n—Piers Anthony', 'book_title': '08 - The Path of Daggers.epub'}, {'text': '“Jordan has a powerful vision of good and evil—but what strikes me as most pleasurable . . . is all the fascinating people moving through a rich and interesting world.”\\n—Orson Scott Card\\n“Jordan’s characters [are] fleshed out with the strengths and weaknesses of real men and women. . . . Invokes the end-of-the-world milieu of Stephen King’s The Stand.”\\n—The Post and Courier (Charleston, South Carolina)\\n“Jordan writes with the stark vision of light and darkness, and sometimes childlike sense of wonder, that permeates J. R. R. Tolkien’s works. His style is undebatably his own.”\\n—The Pittsburgh Press', 'book_title': '08 - The Path of Daggers.epub'}, {'text': '“Jordan’s multivolume epic continues to live up to its high ambitions. Complex plotting, an array of strong characters, lavish detail, and a panoramic scope make this series a feast for fantasy aficionados. . . . Richly detailed and vividly imagined.”\\n—Library Journal\\n“Jordan’s writing is clear and his vision is fascinating, as are the philosophies that run his characters. And speaking of characters, a more interesting bunch I would be hard put to name.”\\n—Science Fiction Review', 'book_title': '08 - The Path of Daggers.epub'}, {'text': '“The complex philosophy behind The Wheel of Time series is expounded so simply the reader often gives a start of surprise at returning to the real world. Rand’s adventures are not finished and neither is this thinking-person’s fantasy series.”\\n—Brunswick Sentinel (Australia)\\n“Robert Jordan can write one hell of a story. . . . [He] keeps the suspense acute and the surprises and invention beautifully paced. Compelling. An exhilarating experience.”\\n—Isaac Asimov’s Science Fiction Magazine', 'book_title': '08 - The Path of Daggers.epub'}, {'text': 'THE WHEEL OF TIME®\\nby Robert Jordan\\nThe Eye of the WorldThe Great HuntThe Dragon RebornThe Shadow RisingThe Fires of HeavenLord of ChaosA Crown of SwordsThe Path of DaggersWinter’s HeartCrossroads of TwilightKnife of Dreams\\nby Robert Jordanand Brandon Sanderson\\nThe Gathering Storm\\n\\n\\nTHE PATHOFDAGGERS\\nROBERT JORDAN', 'book_title': '08 - The Path of Daggers.epub'}]\n"
     ]
    }
   ],
   "source": [
    "# Print sample\n",
    "print(chunks[0:10])"
   ]
  }
 ],
 "metadata": {
  "kernelspec": {
   "display_name": "base",
   "language": "python",
   "name": "python3"
  },
  "language_info": {
   "codemirror_mode": {
    "name": "ipython",
    "version": 3
   },
   "file_extension": ".py",
   "mimetype": "text/x-python",
   "name": "python",
   "nbconvert_exporter": "python",
   "pygments_lexer": "ipython3",
   "version": "3.9.19"
  }
 },
 "nbformat": 4,
 "nbformat_minor": 2
}
