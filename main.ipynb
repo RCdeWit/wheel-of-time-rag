{
 "cells": [
  {
   "cell_type": "code",
   "execution_count": 43,
   "metadata": {},
   "outputs": [],
   "source": [
    "import boto3\n",
    "import openai\n",
    "import os\n",
    "import json\n",
    "import psutil\n",
    "import ray\n",
    "import shutil\n",
    "import tempfile\n",
    "\n",
    "import pandas as pd\n",
    "\n",
    "from bs4 import BeautifulSoup\n",
    "from ebooklib import epub\n",
    "from io import BytesIO\n",
    "from langchain_text_splitters import RecursiveCharacterTextSplitter\n",
    "from pathlib import Path\n",
    "from sentence_transformers import SentenceTransformer\n",
    "from sklearn.metrics.pairwise import cosine_similarity"
   ]
  },
  {
   "cell_type": "markdown",
   "metadata": {},
   "source": [
    "## Basic LLM example"
   ]
  },
  {
   "cell_type": "code",
   "execution_count": null,
   "metadata": {},
   "outputs": [],
   "source": [
    "# Run this interactively in your terminal to generate a config\n",
    "rayllm gen-config"
   ]
  },
  {
   "cell_type": "code",
   "execution_count": null,
   "metadata": {},
   "outputs": [],
   "source": [
    "# Deploy the serve app to production with a given service name.\n",
    "# Reference the serve file created in step 1\n",
    "!anyscale service deploy -f serve_mistral_7b.yaml"
   ]
  },
  {
   "cell_type": "code",
   "execution_count": null,
   "metadata": {},
   "outputs": [],
   "source": [
    "def prompt_llm(service_url: str, prompt: str, model: str =\"mistralai/Mistral-7B-Instruct-v0.1\", temperature: float = 0, **kwargs):\n",
    "\n",
    "    # Ensure URL has a trailing backslash\n",
    "    if not service_url.endswith(\"/\"):\n",
    "        service_url += \"/\"\n",
    "    \n",
    "    if \"/routes\" in service_url:\n",
    "        raise ValueError(\"service_url must end with '.com'\")\n",
    "\n",
    "    # Initialize a client to perform API requests\n",
    "    client = openai.OpenAI(\n",
    "        base_url=ANYSCALE_SERVICE_BASE_URL + \"v1\",\n",
    "        api_key=ANYSCALE_API_KEY,\n",
    "    )\n",
    "    \n",
    "    # Call the chat completions endpoint\n",
    "    chat_completion = client.chat.completions.create(\n",
    "        model=model,\n",
    "        messages=[\n",
    "            # Prime the system with a system message - a common best practice\n",
    "            {\"role\": \"system\", \"content\": \"You are a helpful assistant.\"},\n",
    "            # Send the user message with the proper \"user\" role and \"content\"\n",
    "            {\"role\": \"user\", \"content\": prompt},\n",
    "        ],\n",
    "        temperature=temperature,\n",
    "        **kwargs,\n",
    "    )\n",
    "\n",
    "    return chat_completion"
   ]
  },
  {
   "cell_type": "code",
   "execution_count": null,
   "metadata": {},
   "outputs": [],
   "source": [
    "service_url = \"https://wheel-of-time-rag-3136s.cld-8lqvbtr41isy21zu.s.anyscaleuserdata.com/\"\n",
    "prompt = \"Tell me something about Wheel of Time\"\n",
    "response = prompt_llm(\"service_url\", prompt)\n",
    "print(response.choices[0].message.content)"
   ]
  },
  {
   "cell_type": "markdown",
   "metadata": {},
   "source": [
    "## Create RAG"
   ]
  },
  {
   "cell_type": "markdown",
   "metadata": {},
   "source": [
    "### Download epubs from S3"
   ]
  },
  {
   "cell_type": "code",
   "execution_count": null,
   "metadata": {},
   "outputs": [],
   "source": [
    "import boto3\n",
    "import os\n",
    "\n",
    "def download_s3_bucket(bucket_name, local_dir='/data'):\n",
    "    # Create an S3 client\n",
    "    s3 = boto3.client('s3')\n",
    "    \n",
    "    # Ensure local directory exists\n",
    "    if not os.path.exists(local_dir):\n",
    "        os.makedirs(local_dir)\n",
    "    \n",
    "    # List all objects in the S3 bucket\n",
    "    for obj in s3.list_objects_v2(Bucket=bucket_name)['Contents']:\n",
    "        s3_key = obj['Key']\n",
    "        local_path = os.path.join(local_dir, s3_key)\n",
    "        \n",
    "        # Create local directory structure if needed\n",
    "        if not os.path.exists(os.path.dirname(local_path)):\n",
    "            os.makedirs(os.path.dirname(local_path))\n",
    "        \n",
    "        # Download the file\n",
    "        s3.download_file(bucket_name, s3_key, local_path)\n",
    "        print(f\"Downloaded {s3_key} to {local_path}\")\n",
    "\n",
    "# Usage\n",
    "BUCKET_NAME = 'rag-wheel-of-time'\n",
    "LOCAL_DATA_DIR = Path(\"./data/\")\n",
    "\n",
    "download_s3_bucket(BUCKET_NAME, LOCAL_DATA_DIR)"
   ]
  },
  {
   "cell_type": "markdown",
   "metadata": {},
   "source": [
    "### Parse epubs to text"
   ]
  },
  {
   "cell_type": "code",
   "execution_count": null,
   "metadata": {},
   "outputs": [],
   "source": [
    "def parse_epub_content(epub_file: Path) -> list:\n",
    "    \"\"\"Extracts and returns text content from an EPUB file.\"\"\"\n",
    "    book = epub.read_epub(epub_file)\n",
    "    content = []\n",
    "\n",
    "    for item in book.get_items():\n",
    "        # Check if the media type is HTML/XHTML\n",
    "        if item.media_type == 'application/xhtml+xml':\n",
    "            soup = BeautifulSoup(item.get_body_content(), 'html.parser')\n",
    "            # Extract text from each HTML section\n",
    "            content.append(soup.get_text())\n",
    "\n",
    "    # Join all sections to return as a single string\n",
    "    return '\\n'.join(content)\n",
    "\n",
    "def parse_epub_directory(directory_path: Path) -> dict:\n",
    "    \"\"\"Parses all EPUB files in a directory and returns a dictionary with file names and content.\"\"\"\n",
    "    epub_texts = {}\n",
    "    \n",
    "    for filename in os.listdir(directory_path):\n",
    "        if filename.endswith('.epub'):\n",
    "            epub_path = os.path.join(directory_path, filename)\n",
    "            text = parse_epub_content(epub_path)\n",
    "            epub_texts[filename] = text\n",
    "            \n",
    "    return epub_texts"
   ]
  },
  {
   "cell_type": "code",
   "execution_count": null,
   "metadata": {},
   "outputs": [],
   "source": [
    "# book00 = parse_epub_content('data/library/00 - New Spring.epub')\n",
    "book01 = parse_epub_content('data/library/01 - The Eye of the World.epub')\n",
    "# book02 = parse_epub_content('data/library/02 - The Great Hunt.epub')\n",
    "# book03 = parse_epub_content('data/library/03 - The Dragon Reborn.epub')\n",
    "# book04 = parse_epub_content('data/library/04 - The Shadow Rising.epub')\n",
    "# book05 = parse_epub_content('data/library/05 - The Fires of Heaven.epub')\n",
    "# book06 = parse_epub_content('data/library/06 - Lord of Chaos.epub')\n",
    "# book07 = parse_epub_content('data/library/07 - A Crown of Swords.epub')\n",
    "# book08 = parse_epub_content('data/library/08 - The Path of Daggers.epub')\n",
    "# book09 = parse_epub_content('data/library/09 - Winter\\'s Heart.epub')\n",
    "# book10 = parse_epub_content('data/library/10 - Crossroads of Twilight.epub')\n",
    "# book11 = parse_epub_content('data/library/11 - Knife of Dreams.epub')\n",
    "# book12 = parse_epub_content('data/library/12 - The Gathering Storm.epub')\n",
    "# book13 = parse_epub_content('data/library/13 - Towers of Midnight.epub')\n",
    "# book14 = parse_epub_content('data/library/14 - A Memory of Light.epub')\n",
    "\n",
    "print(book01)"
   ]
  },
  {
   "cell_type": "code",
   "execution_count": null,
   "metadata": {},
   "outputs": [],
   "source": [
    "directory_path = LOCAL_DATA_DIR / 'library'\n",
    "epub_data = parse_epub_directory(directory_path)"
   ]
  },
  {
   "cell_type": "markdown",
   "metadata": {},
   "source": [
    "### Split books into chunks"
   ]
  },
  {
   "cell_type": "code",
   "execution_count": null,
   "metadata": {},
   "outputs": [],
   "source": [
    "chunk_size = 128  #  Chunk size is usually specified in tokens\n",
    "words_to_tokens = 1.2  # Heuristic for converting tokens to words\n",
    "chunk_size_in_words = int(chunk_size // words_to_tokens)\n",
    "\n",
    "splitter = RecursiveCharacterTextSplitter(\n",
    "    chunk_size=chunk_size_in_words,\n",
    "    length_function=lambda x: len(x.split()),\n",
    "    chunk_overlap=0,\n",
    ")\n",
    "\n",
    "chunks = []\n",
    "\n",
    "for title, text in epub_data.items():\n",
    "    for chunk in splitter.split_text(text):\n",
    "        chunks.append(\n",
    "            {\n",
    "                \"text\": chunk,\n",
    "                \"book_title\": title,\n",
    "            }\n",
    "        )"
   ]
  },
  {
   "cell_type": "code",
   "execution_count": null,
   "metadata": {},
   "outputs": [],
   "source": [
    "# Print sample\n",
    "print(chunks[0:10])"
   ]
  },
  {
   "cell_type": "markdown",
   "metadata": {},
   "source": [
    "### Generate embeddings from chunks"
   ]
  },
  {
   "cell_type": "code",
   "execution_count": null,
   "metadata": {},
   "outputs": [],
   "source": [
    "model = SentenceTransformer('thenlper/gte-large', device='cpu')"
   ]
  },
  {
   "cell_type": "code",
   "execution_count": null,
   "metadata": {},
   "outputs": [
    {
     "name": "stderr",
     "output_type": "stream",
     "text": [
      "2024-10-31 13:49:10,201\tINFO streaming_executor.py:108 -- Starting execution of Dataset. Full logs are in /tmp/ray/session_2024-10-31_12-48-01_891017_2361/logs/ray-data\n",
      "2024-10-31 13:49:10,201\tINFO streaming_executor.py:109 -- Execution plan of Dataset: InputDataBuffer[Input] -> TaskPoolMapOperator[ExpandPaths] -> TaskPoolMapOperator[ReadFiles]\n"
     ]
    },
    {
     "data": {
      "application/vnd.jupyter.widget-view+json": {
       "model_id": "b700f5983ccc4e9691e793f7c29a804b",
       "version_major": 2,
       "version_minor": 0
      },
      "text/plain": [
       "Running 0: 0.00 row [00:00, ? row/s]"
      ]
     },
     "metadata": {},
     "output_type": "display_data"
    },
    {
     "data": {
      "application/vnd.jupyter.widget-view+json": {
       "model_id": "96b5e938a74c470298d2a8573694bfee",
       "version_major": 2,
       "version_minor": 0
      },
      "text/plain": [
       "- ExpandPaths 1: 0.00 row [00:00, ? row/s]"
      ]
     },
     "metadata": {},
     "output_type": "display_data"
    },
    {
     "data": {
      "application/vnd.jupyter.widget-view+json": {
       "model_id": "40ae12903ba64396bef21a0d6e9cefc8",
       "version_major": 2,
       "version_minor": 0
      },
      "text/plain": [
       "- ReadFiles 2: 0.00 row [00:00, ? row/s]"
      ]
     },
     "metadata": {},
     "output_type": "display_data"
    },
    {
     "data": {
      "text/plain": [
       "15"
      ]
     },
     "execution_count": 15,
     "metadata": {},
     "output_type": "execute_result"
    }
   ],
   "source": [
    "# library_path = \".\" / LOCAL_DATA_DIR / \"library\"\n",
    "# file_paths = [str(f\"/{file}\") for file in library_path.rglob('*') if file.is_file()]\n",
    "\n",
    "# print(file_paths)\n",
    "\n",
    "books = ray.data.read_binary_files(\n",
    "    paths = \"s3://rag-wheel-of-time/\",\n",
    "    )"
   ]
  },
  {
   "cell_type": "code",
   "execution_count": 25,
   "metadata": {},
   "outputs": [
    {
     "name": "stderr",
     "output_type": "stream",
     "text": [
      "2024-10-31 14:46:20,348\tINFO streaming_executor.py:108 -- Starting execution of Dataset. Full logs are in /tmp/ray/session_2024-10-31_12-48-01_891017_2361/logs/ray-data\n",
      "2024-10-31 14:46:20,348\tINFO streaming_executor.py:109 -- Execution plan of Dataset: InputDataBuffer[Input] -> TaskPoolMapOperator[ExpandPaths] -> TaskPoolMapOperator[ReadFiles]\n"
     ]
    },
    {
     "data": {
      "application/vnd.jupyter.widget-view+json": {
       "model_id": "810b1c108b8348e2990abaeed8a13901",
       "version_major": 2,
       "version_minor": 0
      },
      "text/plain": [
       "Running 0: 0.00 row [00:00, ? row/s]"
      ]
     },
     "metadata": {},
     "output_type": "display_data"
    },
    {
     "data": {
      "application/vnd.jupyter.widget-view+json": {
       "model_id": "f974d7f065174159be3b3924efde990c",
       "version_major": 2,
       "version_minor": 0
      },
      "text/plain": [
       "- ExpandPaths 1: 0.00 row [00:00, ? row/s]"
      ]
     },
     "metadata": {},
     "output_type": "display_data"
    },
    {
     "data": {
      "application/vnd.jupyter.widget-view+json": {
       "model_id": "b6216c2947f74608a39abe07d58f55d5",
       "version_major": 2,
       "version_minor": 0
      },
      "text/plain": [
       "- ReadFiles 2: 0.00 row [00:00, ? row/s]"
      ]
     },
     "metadata": {},
     "output_type": "display_data"
    },
    {
     "data": {
      "text/plain": [
       "15"
      ]
     },
     "execution_count": 25,
     "metadata": {},
     "output_type": "execute_result"
    }
   ],
   "source": [
    "books.count()"
   ]
  },
  {
   "cell_type": "code",
   "execution_count": 16,
   "metadata": {},
   "outputs": [],
   "source": [
    "ray.data.DataContext.get_current().log_internal_stack_trace_to_stdout = True"
   ]
  },
  {
   "cell_type": "code",
   "execution_count": null,
   "metadata": {},
   "outputs": [
    {
     "name": "stderr",
     "output_type": "stream",
     "text": [
      "2024-10-31 15:21:13,820\tINFO streaming_executor.py:108 -- Starting execution of Dataset. Full logs are in /tmp/ray/session_2024-10-31_12-48-01_891017_2361/logs/ray-data\n",
      "2024-10-31 15:21:13,820\tINFO streaming_executor.py:109 -- Execution plan of Dataset: InputDataBuffer[Input] -> TaskPoolMapOperator[ExpandPaths] -> TaskPoolMapOperator[ReadFiles] -> TaskPoolMapOperator[Map(parse_epub_content)] -> LimitOperator[limit=2]\n"
     ]
    },
    {
     "data": {
      "application/vnd.jupyter.widget-view+json": {
       "model_id": "914b34f4093d4c488636d149f72baf6f",
       "version_major": 2,
       "version_minor": 0
      },
      "text/plain": [
       "Running 0: 0.00 row [00:00, ? row/s]"
      ]
     },
     "metadata": {},
     "output_type": "display_data"
    },
    {
     "data": {
      "application/vnd.jupyter.widget-view+json": {
       "model_id": "3dfc3390c8264473bad66c1053959348",
       "version_major": 2,
       "version_minor": 0
      },
      "text/plain": [
       "- ExpandPaths 1: 0.00 row [00:00, ? row/s]"
      ]
     },
     "metadata": {},
     "output_type": "display_data"
    },
    {
     "data": {
      "application/vnd.jupyter.widget-view+json": {
       "model_id": "7ae7e922591c44bdb60b5f0659236e66",
       "version_major": 2,
       "version_minor": 0
      },
      "text/plain": [
       "- ReadFiles 2: 0.00 row [00:00, ? row/s]"
      ]
     },
     "metadata": {},
     "output_type": "display_data"
    },
    {
     "data": {
      "application/vnd.jupyter.widget-view+json": {
       "model_id": "68c7ab5970444818a6873ae47916efa6",
       "version_major": 2,
       "version_minor": 0
      },
      "text/plain": [
       "- Map(parse_epub_content) 3: 0.00 row [00:00, ? row/s]"
      ]
     },
     "metadata": {},
     "output_type": "display_data"
    },
    {
     "data": {
      "application/vnd.jupyter.widget-view+json": {
       "model_id": "59857b39f7f74bc68ec008370189b621",
       "version_major": 2,
       "version_minor": 0
      },
      "text/plain": [
       "- limit=2 4: 0.00 row [00:00, ? row/s]"
      ]
     },
     "metadata": {},
     "output_type": "display_data"
    }
   ],
   "source": [
    "def parse_epub_content(epub_bytes) -> str:\n",
    "    \"\"\"Extracts and returns text content from an EPUB file given as raw bytes.\"\"\"\n",
    "\n",
    "    with tempfile.NamedTemporaryFile(delete=True, suffix='.epub') as temp_file:\n",
    "        temp_file.write(epub_bytes['bytes'])  # Write bytes to the temporary file\n",
    "        temp_file.flush()  # Ensure all data is written\n",
    "\n",
    "        book = epub.read_epub(temp_file.name)  # Read the temporary file\n",
    "        content = []\n",
    "\n",
    "\n",
    "        for item in book.get_items():\n",
    "            # Check if the media type is HTML/XHTML\n",
    "            if item.media_type == 'application/xhtml+xml':\n",
    "                soup = BeautifulSoup(item.get_body_content(), 'html.parser')\n",
    "                # Extract text from each HTML section\n",
    "                content.append(soup.get_text())\n",
    "\n",
    "    # Join all sections to return as a single string\n",
    "    return {'book_content' : '\\n'.join(content)}\n",
    "\n",
    "books_parsed = books.map(parse_epub_content)\n",
    "result = books_parsed.take(2)"
   ]
  },
  {
   "cell_type": "code",
   "execution_count": 52,
   "metadata": {},
   "outputs": [
    {
     "name": "stdout",
     "output_type": "stream",
     "text": [
      "\n",
      "\n",
      "\n",
      "\n",
      "\n",
      "\n",
      "\n",
      " \n",
      "“The Eye of the World is the best of its genre.”\n",
      "—The Ottawa Citizen\n",
      " \n",
      "“A splendid tale of heroic fantasy, vast in scope, colorful in detail, and convincing in its presentation of human character and personality.”\n",
      "—L. Sprague De Camp\n",
      " \n",
      "“This richly detailed fantasy presents fully realized, complex adventure. Recommended.”\n",
      "—Library Journal\n",
      " \n",
      "“This one is as solid as a steel blade and glowing with the true magic. Robert Jordan deserves congratulations.”\n",
      "—Fred Saberhagen\n",
      " \n",
      "“One hell of a story. [It] kept me up past my bedtime for three nights running—and it’s been a long time since a novel’s done that.”\n",
      "—Baird Searles,Isaac Asimov’s Science Fiction Magazine\n",
      " \n",
      "“A future collector’s item. Jordan has brought out a completely new allegory in a fantasy concept that goes even beyond this massive story, working with an artist’s eye and the sense of responsibility of a serious historian.”\n",
      "—Gordon R. Dickson\n",
      " \n",
      "“Classic oppositions are brought into play: initiates versus innocents, good versus evil, the spiritual power of women versus that of men. The travelers themselves are full of subtleties and shadows—ordinary villagers who, thrust into cosmic conflict, are unable to abandon their simple human desires and fears.\n",
      "“This intricate allegorical fantasy recalls the works of Tolkien because of its intensity and warmth.”\n",
      "—Publishers Weekly\n",
      " \n",
      "“Robert Jordan has come to dominate the world Tolkien began to reveal.”\n",
      "—The New York Times\n",
      " \n",
      "“This has magic and pacing and detail and human involvement, with a certain subtlety of presentation and a grand central vision. Robert Jordan . . . is a lot of writer!”\n",
      "—Piers Anthony\n",
      " \n",
      "“An exciting story; the reader is drawn in early and kept there until the last page. There is adventure and mystery and dark things that move in the night—a combination of Robin Hood and Stephen King that is hard to resist. . . . Jordan makes the reader care about these characters as though they were old friends; so much so that the reader will put down the book regretting the wait for the next title in the series.”\n",
      "—Milwaukee Sentinel\n",
      " \n",
      "“A classic fantasy tale of the struggle between light and darkness, good and evil, death and life. Goodness, life, and light are always in retreat, always about to be defeated, but never quite! Don’t miss it!”\n",
      "—Andrew M. Greeley\n",
      " \n",
      "“Certainly a title I want to add to my permanent collection and I shall be eagerly awaiting the sequel which is promised at the end.”\n",
      "—Andre Norton\n",
      "\n",
      "\n",
      "THE EYEOF THEWORLD\n",
      "ROBERT JORDAN\n",
      " \n",
      "A TOM DOHERTY ASSOCIATES BOOKNEW YORK\n",
      "\n",
      "\n",
      "\n",
      "The author and publisher have provided this e-book to you without Digital Rights Management software (DRM) applied so that you can enjoy reading it on your personal devices. This e-book is for your personal use only. You may not print or post this e-book, or make this e-book publicly available in any way. You may not copy, reproduce or upload this e-book, other than to read it on one of your personal devices.\n",
      "Copyright infringement is against the law. If you believe the copy of this e-book you are reading infringes on the author’s copyright, please notify the publisher at: us.macmillanusa.com/piracy.\n",
      "\n",
      "\n",
      "\n",
      " \n",
      " \n",
      " \n",
      " \n",
      "This is a work of fiction. All of the characters, organizations, and events portrayed in this novel are either products of the author’s imagination or are used fictitiously.\n",
      " \n",
      "THE EYE OF THE WORLD\n",
      " \n",
      "Copyright © 1990 by The Bandersnatch Group, Inc.\n",
      " \n",
      "The phrases \"The Wheel of Time®” and “The Dragon Reborn™,” and the snake-wheel symbol, are trademarks of Robert Jordan.\n",
      " \n",
      "All rights reserved.\n",
      " \n",
      "Frontispiece by David Grove\n",
      "Maps by Ellisa Mitchell and Thomas Canty\n",
      "Interior illustrations by Matthew C. Nielsen\n",
      " \n",
      "A Tor Book\n",
      "Published by Tom Doherty Associates, LLC\n",
      "175 Fifth Avenue\n",
      "New York, NY 10010\n",
      " \n",
      "www.tor-forge.com\n",
      " \n",
      "Tor® is a registered trademark of Tom Doherty Associates, LLC.\n",
      " \n",
      "ISBN 978-1-4299-5981-0\n",
      " \n",
      "First Edition: February 1990\n",
      "First E-book Edition: October 2009\n",
      " \n",
      "Manufactured in the United States of America\n",
      "\n",
      "\n",
      " \n",
      " \n",
      " \n",
      "To HarrietHeart of my heart,Light of my life,Forever.\n",
      "\n",
      "\n",
      "CONTENTS\n",
      " \n",
      "PROLOGUE Dragonmount\n",
      "MAPS\n",
      "  1      An Empty Road\n",
      "  2      Strangers\n",
      "  3      The Peddler\n",
      "  4      The Gleeman\n",
      "  5      Winternight\n",
      "  6      The Westwood\n",
      "  7      Out of the Woods\n",
      "  8      A Place of Safety\n",
      "  9      Tellings of the Wheel\n",
      "10      Leavetaking\n",
      "11      The Road to Taren Ferry\n",
      "12      Across the Taren\n",
      "13      Choices\n",
      "14      The Stag and Lion\n",
      "15      Strangers and Friends\n",
      "16      The Wisdom\n",
      "17      Watchers and Hunters\n",
      "18      The Caemlyn Road\n",
      "19      Shadow’s Waiting\n",
      "20      Dust on the Wind\n",
      "21      Listen to the Wind\n",
      "22      A Path Chosen\n",
      "23      Wolfbrother\n",
      "24      Flight Down the Arinelle\n",
      "25      The Traveling People\n",
      "26      Whitebridge\n",
      "27      Shelter From the Storm\n",
      "28      Footprints in Air\n",
      "29      Eyes Without Pity\n",
      "30      Children of Shadow\n",
      "31      Play for Your Supper\n",
      "32      Four Kings in Shadow\n",
      "33      The Dark Waits\n",
      "34      The Last Village\n",
      "35      Caemlyn\n",
      "36      Web of the Pattern\n",
      "37      The Long Chase\n",
      "38   \n"
     ]
    }
   ],
   "source": [
    "print(result[1]['book_content'][:5000])"
   ]
  }
 ],
 "metadata": {
  "kernelspec": {
   "display_name": "base",
   "language": "python",
   "name": "python3"
  },
  "language_info": {
   "codemirror_mode": {
    "name": "ipython",
    "version": 3
   },
   "file_extension": ".py",
   "mimetype": "text/x-python",
   "name": "python",
   "nbconvert_exporter": "python",
   "pygments_lexer": "ipython3",
   "version": "3.9.19"
  }
 },
 "nbformat": 4,
 "nbformat_minor": 2
}
